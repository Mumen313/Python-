{
 "cells": [
  {
   "cell_type": "code",
   "execution_count": 4,
   "id": "502b997a-f5c3-401e-83d9-d190adde4217",
   "metadata": {},
   "outputs": [
    {
     "name": "stdin",
     "output_type": "stream",
     "text": [
      "Enter your birthday (YYYY-MM-DD):  2001-05-01\n"
     ]
    },
    {
     "name": "stdout",
     "output_type": "stream",
     "text": [
      "You are 22 years, 9 months, 23 days, 19 hours, 26 minutes, and 33 seconds old.\n"
     ]
    }
   ],
   "source": [
    "from datetime import datetime\n",
    "\n",
    "def calculate_age(birthday):\n",
    "    # Get the current date\n",
    "    current_date = datetime.now()\n",
    "\n",
    "    # Parse the birthday string into a datetime object\n",
    "    birthday_date = datetime.strptime(birthday, '%Y-%m-%d')\n",
    "\n",
    "    # Calculate the difference between current date and birthday\n",
    "    age = current_date - birthday_date\n",
    "\n",
    "    # Extract years, months, days, hours, minutes, and seconds from the difference\n",
    "    years = age.days // 365\n",
    "    months = (age.days % 365) // 30\n",
    "    days = (age.days % 365) % 30\n",
    "    hours = age.seconds // 3600\n",
    "    minutes = (age.seconds % 3600) // 60\n",
    "    seconds = age.seconds % 60\n",
    "\n",
    "    # Return the calculated age\n",
    "    return years, months, days, hours, minutes, seconds\n",
    "\n",
    "# Example usage:\n",
    "birthday = input(\"Enter your birthday (YYYY-MM-DD): \")\n",
    "years, months, days, hours, minutes, seconds = calculate_age(birthday)\n",
    "\n",
    "print(f\"You are {years} years, {months} months, {days} days, {hours} hours, {minutes} minutes, and {seconds} seconds old.\")\n"
   ]
  },
  {
   "cell_type": "code",
   "execution_count": 3,
   "id": "4b18e948-0c54-4984-b830-80a108d9d7f4",
   "metadata": {},
   "outputs": [
    {
     "name": "stdin",
     "output_type": "stream",
     "text": [
      "Enter your birthday (YYYY-MM-DD):  2000-02-13\n"
     ]
    },
    {
     "name": "stdout",
     "output_type": "stream",
     "text": [
      "You are 24 years, 0 months, and 0 days old.\n"
     ]
    }
   ],
   "source": [
    "def calculate_age(birthday):\n",
    "    # Split the birthday string into year, month, and day\n",
    "    year, month, day = map(int, birthday.split('-'))\n",
    "\n",
    "    # Get the current date (using a hypothetical current year of 2024)\n",
    "    current_year, current_month, current_day = 2024, 2, 13\n",
    "\n",
    "    # Calculate the age\n",
    "    years = current_year - year\n",
    "    months = current_month - month\n",
    "    days = current_day - day\n",
    "\n",
    "    # Adjust age if birth month/day is after current month/day\n",
    "    if months < 0 or (months == 0 and days < 0):\n",
    "        years -= 1\n",
    "        if months < 0:\n",
    "            months += 12\n",
    "        if days < 0:\n",
    "            days += 30  # Assuming a month has 30 days for simplicity\n",
    "\n",
    "    # Return the calculated age\n",
    "    return years, months, days\n",
    "\n",
    "# Example usage:\n",
    "birthday = input(\"Enter your birthday (YYYY-MM-DD): \")\n",
    "years, months, days = calculate_age(birthday)\n",
    "\n",
    "print(f\"You are {years} years, {months} months, and {days} days old.\")\n"
   ]
  }
 ],
 "metadata": {
  "kernelspec": {
   "display_name": "Python 3 (ipykernel)",
   "language": "python",
   "name": "python3"
  },
  "language_info": {
   "codemirror_mode": {
    "name": "ipython",
    "version": 3
   },
   "file_extension": ".py",
   "mimetype": "text/x-python",
   "name": "python",
   "nbconvert_exporter": "python",
   "pygments_lexer": "ipython3",
   "version": "3.10.9"
  }
 },
 "nbformat": 4,
 "nbformat_minor": 5
}

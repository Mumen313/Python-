{
 "cells": [
  {
   "cell_type": "code",
   "execution_count": 32,
   "id": "fd1985ca-43f2-4d81-baaf-7f344168d8bd",
   "metadata": {},
   "outputs": [
    {
     "name": "stdin",
     "output_type": "stream",
     "text": [
      "Enter the length of the DNA sequence:  3\n"
     ]
    },
    {
     "name": "stdout",
     "output_type": "stream",
     "text": [
      "Random DNA Sequence: CTG\n",
      "Reversed DNA Sequence: GTC\n"
     ]
    }
   ],
   "source": [
    "import random\n",
    "\n",
    "# Generate a random DNA sequence of specified length\n",
    "def generate_random_sequence(length):\n",
    "    bases = ['A', 'C', 'G', 'T']\n",
    "    sequence = ''\n",
    "    for _ in range(length):\n",
    "        sequence += random.choice(bases)\n",
    "    return sequence\n",
    "\n",
    "# Reverse a DNA sequence\n",
    "def reverse_sequence(sequence):\n",
    "    reversed_sequence = ''\n",
    "    for base in reversed(sequence):\n",
    "        reversed_sequence += base\n",
    "    return reversed_sequence\n",
    "\n",
    "# Main code\n",
    "length = int(input(\"Enter the length of the DNA sequence: \"))\n",
    "\n",
    "# Generate a random DNA sequence\n",
    "random_sequence = generate_random_sequence(length)\n",
    "print(\"Random DNA Sequence:\", random_sequence)\n",
    "\n",
    "# Reverse the random sequence\n",
    "reversed_sequence = reverse_sequence(random_sequence)\n",
    "print(\"Reversed DNA Sequence:\", reversed_sequence)\n"
   ]
  },
  {
   "cell_type": "code",
   "execution_count": 62,
   "id": "5077a9dd-c940-406f-873c-7a5b20cae904",
   "metadata": {},
   "outputs": [
    {
     "data": {
      "text/plain": [
       "<reversed at 0x104c5cf70>"
      ]
     },
     "execution_count": 62,
     "metadata": {},
     "output_type": "execute_result"
    }
   ],
   "source": [
    "sequence = \"TAGCCC\"\n",
    "E=reversed(sequence)\n",
    "E"
   ]
  },
  {
   "cell_type": "code",
   "execution_count": 65,
   "id": "3d9e0269-5539-499e-88da-dadee2eb6f64",
   "metadata": {},
   "outputs": [
    {
     "name": "stdout",
     "output_type": "stream",
     "text": [
      "CCCGAT\n"
     ]
    }
   ],
   "source": [
    "sequence = \"TAGCCC\"\n",
    "reversed_sequence = ''.join(reversed(sequence))\n",
    "print(reversed_sequence)\n"
   ]
  },
  {
   "cell_type": "code",
   "execution_count": 33,
   "id": "a7c47ec7-358b-49ad-83bf-ffd0021f0c77",
   "metadata": {},
   "outputs": [],
   "source": [
    "import random\n",
    "\n",
    "# Generate a random DNA sequence of specified length\n",
    "def generate_random_sequence(length):\n",
    "    bases = ['A', 'C', 'G', 'T']\n",
    "    sequence = ''\n",
    "    for _ in range(length):\n",
    "        sequence += random.choice(bases)\n",
    "    return sequence\n"
   ]
  },
  {
   "cell_type": "code",
   "execution_count": 80,
   "id": "82f910fa-6f94-40fa-b541-b894337d7595",
   "metadata": {},
   "outputs": [
    {
     "name": "stdin",
     "output_type": "stream",
     "text": [
      "enter an numenr  2\n"
     ]
    },
    {
     "name": "stdout",
     "output_type": "stream",
     "text": [
      "Random DNA Sequence: TG\n"
     ]
    }
   ],
   "source": [
    " # Generate a random DNA sequence\n",
    "length = int(input ('enter an numenr ')) \n",
    "random_sequence = generate_random_sequence(length)\n",
    "print(\"Random DNA Sequence:\", random_sequence)\n"
   ]
  },
  {
   "cell_type": "code",
   "execution_count": 81,
   "id": "41f7e243-6a19-445b-a4ac-b23d33930d02",
   "metadata": {},
   "outputs": [
    {
     "name": "stdout",
     "output_type": "stream",
     "text": [
      "Reversed DNA Sequence: GT\n"
     ]
    }
   ],
   "source": [
    "\n",
    "# Reverse a DNA sequence\n",
    "def reverse_sequence(sequence):\n",
    "    reversed_sequence = ''\n",
    "    for base in reversed(sequence):\n",
    "        reversed_sequence += base\n",
    "    return reversed_sequence\n",
    "# Reverse the random sequence\n",
    "reversed_sequence = reverse_sequence(random_sequence)\n",
    "print(\"Reversed DNA Sequence:\", reversed_sequence)\n"
   ]
  },
  {
   "cell_type": "code",
   "execution_count": null,
   "id": "18534c00-564d-4ebd-a02f-6bfb6b4118af",
   "metadata": {},
   "outputs": [],
   "source": []
  },
  {
   "cell_type": "code",
   "execution_count": null,
   "id": "5892995e-2c8e-4032-8b8c-25a55e1e6e4f",
   "metadata": {},
   "outputs": [],
   "source": []
  },
  {
   "cell_type": "markdown",
   "id": "6b66b2e4-8ca7-48a4-92df-6857a829a692",
   "metadata": {},
   "source": [
    "## with Function "
   ]
  },
  {
   "cell_type": "code",
   "execution_count": null,
   "id": "d70c903b-2509-4847-9aff-41103df8db1f",
   "metadata": {},
   "outputs": [],
   "source": []
  },
  {
   "cell_type": "code",
   "execution_count": 29,
   "id": "8a26eb08-64a9-41a9-a8ea-43d7a18049e8",
   "metadata": {},
   "outputs": [
    {
     "name": "stdin",
     "output_type": "stream",
     "text": [
      "Enter the length of the DNA sequence:  2\n"
     ]
    },
    {
     "name": "stdout",
     "output_type": "stream",
     "text": [
      "Random Sequence: TG\n",
      "Reverse Complement Sequence: CA\n",
      "Reversed Reverse Complement Sequence: AC\n"
     ]
    }
   ],
   "source": [
    "import random\n",
    "\n",
    "def generate_random_sequence(length):\n",
    "    \"\"\"Generate a random DNA sequence of specified length.\"\"\"\n",
    "    bases = ['A', 'C', 'G', 'T']\n",
    "    return ''.join(random.choice(bases) for _ in range(length))\n",
    "\n",
    "def reverse_complement(sequence):\n",
    "    \"\"\"Find the reverse complement of a DNA sequence.\"\"\"\n",
    "    complement = {'A': 'T', 'C': 'G', 'G': 'C', 'T': 'A'}\n",
    "    return ''.join(complement[base] for base in reversed(sequence))\n",
    "\n",
    "def reverse_sequence(sequence):\n",
    "    \"\"\"Reverse a DNA sequence.\"\"\"\n",
    "    return sequence[::-1]\n",
    "\n",
    "def main():\n",
    "    length = int(input(\"Enter the length of the DNA sequence: \"))\n",
    "    random_sequence = generate_random_sequence(length)\n",
    "    print(\"Random Sequence:\", random_sequence)\n",
    "\n",
    "    reverse_complement_sequence = reverse_complement(random_sequence)\n",
    "    print(\"Reverse Complement Sequence:\", reverse_complement_sequence)\n",
    "\n",
    "    reverse_complement_sequence_reversed = reverse_sequence(reverse_complement_sequence)\n",
    "    print(\"Reversed Reverse Complement Sequence:\", reverse_complement_sequence_reversed)\n",
    "\n",
    "if __name__ == \"__main__\":\n",
    "    main()\n",
    "\n"
   ]
  },
  {
   "cell_type": "markdown",
   "id": "b1872eae-c7e9-491a-8fa6-c355ea6397f1",
   "metadata": {},
   "source": [
    "## 2 way\n",
    "\n",
    "\n"
   ]
  },
  {
   "cell_type": "code",
   "execution_count": 28,
   "id": "147a7500-0b01-40c7-9c26-54e1d3d2b1d7",
   "metadata": {},
   "outputs": [
    {
     "name": "stdin",
     "output_type": "stream",
     "text": [
      "Enter the length of the DNA sequence:  2\n"
     ]
    },
    {
     "name": "stdout",
     "output_type": "stream",
     "text": [
      "Random Sequence: AC\n",
      "Reverse Complement Sequence: GT\n",
      "Reversed Reverse Complement Sequence: TG\n"
     ]
    }
   ],
   "source": [
    "import random\n",
    "\n",
    "# Generate a random DNA sequence of specified length\n",
    "def generate_random_sequence(length):\n",
    "    bases = ['A', 'C', 'G', 'T']\n",
    "    sequence = ''\n",
    "    for _ in range(length):\n",
    "        sequence += random.choice(bases)\n",
    "    return sequence\n",
    "\n",
    "# Find the reverse complement of a DNA sequence\n",
    "def reverse_complement(sequence):\n",
    "    complement = {'A': 'T', 'C': 'G', 'G': 'C', 'T': 'A'}\n",
    "    reversed_sequence = ''\n",
    "    for base in reversed(sequence):\n",
    "        reversed_sequence += complement[base]\n",
    "    return reversed_sequence\n",
    "\n",
    "# Reverse a DNA sequence\n",
    "def reverse_sequence(sequence):\n",
    "    reversed_sequence = ''\n",
    "    for base in reversed(sequence):\n",
    "        reversed_sequence += base\n",
    "    return reversed_sequence\n",
    "\n",
    "# Main code\n",
    "length = int(input(\"Enter the length of the DNA sequence: \"))\n",
    "\n",
    "# Generate a random DNA sequence\n",
    "random_sequence = generate_random_sequence(length)\n",
    "print(\"Random Sequence:\", random_sequence)\n",
    "\n",
    " # Find the reverse complement of the random sequence\n",
    "reverse_complement_sequence = reverse_complement(random_sequence)\n",
    "print(\"Reverse Complement Sequence:\", reverse_complement_sequence)\n",
    "\n",
    "# Reverse the sequence of the complementary strand\n",
    "reverse_complement_sequence_reversed = reverse_sequence(reverse_complement_sequence)\n",
    "print(\"Reversed Reverse Complement Sequence:\", reverse_complement_sequence_reversed)"
   ]
  },
  {
   "cell_type": "code",
   "execution_count": 26,
   "id": "1bf401e8-824b-4fb6-b203-f5e4410a8918",
   "metadata": {},
   "outputs": [
    {
     "name": "stdin",
     "output_type": "stream",
     "text": [
      "Enter the length of the DNA sequence:  2\n"
     ]
    },
    {
     "name": "stdout",
     "output_type": "stream",
     "text": [
      "TG\n"
     ]
    }
   ],
   "source": [
    "import random\n",
    "\n",
    "# Generate a random DNA sequence of specified length\n",
    "def generate_random_sequence(length):\n",
    "    bases = ['A', 'C', 'G', 'T']\n",
    "    sequence = ''\n",
    "    for _ in range(length):\n",
    "        sequence += random.choice(bases)\n",
    "    return sequence\n",
    "length = int(input(\"Enter the length of the DNA sequence: \"))\n",
    "# Generate a random DNA sequence\n",
    "random_sequence= generate_random_sequence(length)\n",
    "print (random_sequence)"
   ]
  },
  {
   "cell_type": "markdown",
   "id": "0a44b8ba-9ad3-4f67-bb3d-466f5203ee1d",
   "metadata": {},
   "source": [
    "# Find the reverse complement of a DNA sequence\n"
   ]
  },
  {
   "cell_type": "code",
   "execution_count": 27,
   "id": "ba24a34f-7ab8-41ef-babe-2b45f866c4b5",
   "metadata": {},
   "outputs": [
    {
     "data": {
      "text/plain": [
       "'CA'"
      ]
     },
     "execution_count": 27,
     "metadata": {},
     "output_type": "execute_result"
    }
   ],
   "source": [
    "def reverse_complement(sequence):\n",
    "    complement = {'A': 'T', 'C': 'G', 'G': 'C', 'T': 'A'}     # create a dicionary withbonly the bases and their complement \n",
    "    reversed_sequence = ''                                    ## empty string \n",
    "    for base in reversed(sequence):                           ### for loop where i loke thetge based in the reversed sequence \n",
    "        reversed_sequence += complement[base]                 #### waucg time I look to the reverse function I try to add  abase\n",
    "        \n",
    "    return reversed_sequence                                  ####### retrun the secuenece \n",
    "\n",
    "\n",
    "reverse_complement_sequence = reverse_complement(random_sequence)\n",
    "reverse_complement_sequence"
   ]
  }
 ],
 "metadata": {
  "kernelspec": {
   "display_name": "Python 3 (ipykernel)",
   "language": "python",
   "name": "python3"
  },
  "language_info": {
   "codemirror_mode": {
    "name": "ipython",
    "version": 3
   },
   "file_extension": ".py",
   "mimetype": "text/x-python",
   "name": "python",
   "nbconvert_exporter": "python",
   "pygments_lexer": "ipython3",
   "version": "3.10.9"
  }
 },
 "nbformat": 4,
 "nbformat_minor": 5
}
